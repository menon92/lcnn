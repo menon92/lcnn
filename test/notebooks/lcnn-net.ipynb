{
  "nbformat": 4,
  "nbformat_minor": 0,
  "metadata": {
    "colab": {
      "name": "lcnn.ipynb",
      "provenance": []
    },
    "kernelspec": {
      "name": "python3",
      "display_name": "Python 3"
    },
    "language_info": {
      "name": "python"
    }
  },
  "cells": [
    {
      "cell_type": "code",
      "metadata": {
        "id": "xcsqM-GO8gyE"
      },
      "source": [
        "import torch\n",
        "import torch.nn as nn\n",
        "import torch.nn.functional as F"
      ],
      "execution_count": null,
      "outputs": []
    },
    {
      "cell_type": "code",
      "metadata": {
        "id": "zRxs5lrQ8ttI"
      },
      "source": [
        "\n",
        "class Bottleneck2D(nn.Module):\n",
        "    expansion = 2\n",
        "\n",
        "    def __init__(self, inplanes, planes, stride=1, downsample=None):\n",
        "        super(Bottleneck2D, self).__init__()\n",
        "\n",
        "        self.bn1 = nn.BatchNorm2d(inplanes)\n",
        "        self.conv1 = nn.Conv2d(inplanes, planes, kernel_size=1)\n",
        "        self.bn2 = nn.BatchNorm2d(planes)\n",
        "        self.conv2 = nn.Conv2d(planes, planes, kernel_size=3, stride=stride, padding=1)\n",
        "        self.bn3 = nn.BatchNorm2d(planes)\n",
        "        self.conv3 = nn.Conv2d(planes, planes * 2, kernel_size=1)\n",
        "        self.relu = nn.ReLU(inplace=True)\n",
        "        self.downsample = downsample\n",
        "        self.stride = stride\n",
        "\n",
        "    def forward(self, x):\n",
        "        residual = x\n",
        "\n",
        "        out = self.bn1(x)\n",
        "        out = self.relu(out)\n",
        "        out = self.conv1(out)\n",
        "\n",
        "        out = self.bn2(out)\n",
        "        out = self.relu(out)\n",
        "        out = self.conv2(out)\n",
        "\n",
        "        out = self.bn3(out)\n",
        "        out = self.relu(out)\n",
        "        out = self.conv3(out)\n",
        "\n",
        "        if self.downsample is not None:\n",
        "            residual = self.downsample(x)\n",
        "\n",
        "        out += residual\n",
        "\n",
        "        return out\n",
        "\n"
      ],
      "execution_count": null,
      "outputs": []
    },
    {
      "cell_type": "code",
      "metadata": {
        "colab": {
          "base_uri": "https://localhost:8080/"
        },
        "id": "us4-20Vy_m2K",
        "outputId": "41e0e8b5-852f-4750-88d9-e61e09f37031"
      },
      "source": [
        "b2d = Bottleneck2D(2, 2)\n",
        "print(b2d)"
      ],
      "execution_count": null,
      "outputs": [
        {
          "output_type": "stream",
          "text": [
            "Bottleneck2D(\n",
            "  (bn1): BatchNorm2d(2, eps=1e-05, momentum=0.1, affine=True, track_running_stats=True)\n",
            "  (conv1): Conv2d(2, 2, kernel_size=(1, 1), stride=(1, 1))\n",
            "  (bn2): BatchNorm2d(2, eps=1e-05, momentum=0.1, affine=True, track_running_stats=True)\n",
            "  (conv2): Conv2d(2, 2, kernel_size=(3, 3), stride=(1, 1), padding=(1, 1))\n",
            "  (bn3): BatchNorm2d(2, eps=1e-05, momentum=0.1, affine=True, track_running_stats=True)\n",
            "  (conv3): Conv2d(2, 4, kernel_size=(1, 1), stride=(1, 1))\n",
            "  (relu): ReLU(inplace=True)\n",
            ")\n"
          ],
          "name": "stdout"
        }
      ]
    },
    {
      "cell_type": "code",
      "metadata": {
        "id": "FXfaVKd88zjV"
      },
      "source": [
        "\n",
        "class Hourglass(nn.Module):\n",
        "    def __init__(self, block, num_blocks, planes, depth):\n",
        "        super(Hourglass, self).__init__()\n",
        "        self.depth = depth\n",
        "        self.block = block\n",
        "        self.hg = self._make_hour_glass(block, num_blocks, planes, depth)\n",
        "\n",
        "    def _make_residual(self, block, num_blocks, planes):\n",
        "        layers = []\n",
        "        for i in range(0, num_blocks):\n",
        "            layers.append(block(planes * block.expansion, planes))\n",
        "        return nn.Sequential(*layers)\n",
        "\n",
        "    def _make_hour_glass(self, block, num_blocks, planes, depth):\n",
        "        hg = []\n",
        "        for i in range(depth):\n",
        "            res = []\n",
        "            for j in range(3):\n",
        "                res.append(self._make_residual(block, num_blocks, planes))\n",
        "            if i == 0:\n",
        "                res.append(self._make_residual(block, num_blocks, planes))\n",
        "            hg.append(nn.ModuleList(res))\n",
        "        return nn.ModuleList(hg)\n",
        "\n",
        "    def _hour_glass_forward(self, n, x):\n",
        "        up1 = self.hg[n - 1][0](x)\n",
        "        low1 = F.max_pool2d(x, 2, stride=2)\n",
        "        low1 = self.hg[n - 1][1](low1)\n",
        "\n",
        "        if n > 1:\n",
        "            low2 = self._hour_glass_forward(n - 1, low1)\n",
        "        else:\n",
        "            low2 = self.hg[n - 1][3](low1)\n",
        "        low3 = self.hg[n - 1][2](low2)\n",
        "        up2 = F.interpolate(low3, scale_factor=2)\n",
        "        out = up1 + up2\n",
        "        return out\n",
        "\n",
        "    def forward(self, x):\n",
        "        return self._hour_glass_forward(self.depth, x)\n",
        "\n"
      ],
      "execution_count": null,
      "outputs": []
    },
    {
      "cell_type": "code",
      "metadata": {
        "id": "mTUapxJK84aN"
      },
      "source": [
        "\n",
        "class HourglassNet(nn.Module):\n",
        "    \"\"\"Hourglass model from Newell et al ECCV 2016\"\"\"\n",
        "\n",
        "    def __init__(self, block, head, depth, num_stacks, num_blocks, num_classes):\n",
        "        super(HourglassNet, self).__init__()\n",
        "\n",
        "        self.inplanes = 64\n",
        "        self.num_feats = 128\n",
        "        self.num_stacks = num_stacks\n",
        "        self.conv1 = nn.Conv2d(3, self.inplanes, kernel_size=7, stride=2, padding=3)\n",
        "        self.bn1 = nn.BatchNorm2d(self.inplanes)\n",
        "        self.relu = nn.ReLU(inplace=True)\n",
        "        self.layer1 = self._make_residual(block, self.inplanes, 1)\n",
        "        self.layer2 = self._make_residual(block, self.inplanes, 1)\n",
        "        self.layer3 = self._make_residual(block, self.num_feats, 1)\n",
        "        self.maxpool = nn.MaxPool2d(2, stride=2)\n",
        "\n",
        "        # build hourglass modules\n",
        "        ch = self.num_feats * block.expansion\n",
        "        # vpts = []\n",
        "        hg, res, fc, score, fc_, score_ = [], [], [], [], [], []\n",
        "        for i in range(num_stacks):\n",
        "            hg.append(Hourglass(block, num_blocks, self.num_feats, depth))\n",
        "            res.append(self._make_residual(block, self.num_feats, num_blocks))\n",
        "            fc.append(self._make_fc(ch, ch))\n",
        "            score.append(head(ch, num_classes))\n",
        "            # vpts.append(VptsHead(ch))\n",
        "            # vpts.append(nn.Linear(ch, 9))\n",
        "            # score.append(nn.Conv2d(ch, num_classes, kernel_size=1))\n",
        "            # score[i].bias.data[0] += 4.6\n",
        "            # score[i].bias.data[2] += 4.6\n",
        "            if i < num_stacks - 1:\n",
        "                fc_.append(nn.Conv2d(ch, ch, kernel_size=1))\n",
        "                score_.append(nn.Conv2d(num_classes, ch, kernel_size=1))\n",
        "        self.hg = nn.ModuleList(hg)\n",
        "        self.res = nn.ModuleList(res)\n",
        "        self.fc = nn.ModuleList(fc)\n",
        "        self.score = nn.ModuleList(score)\n",
        "        # self.vpts = nn.ModuleList(vpts)\n",
        "        self.fc_ = nn.ModuleList(fc_)\n",
        "        self.score_ = nn.ModuleList(score_)\n",
        "\n",
        "    def _make_residual(self, block, planes, blocks, stride=1):\n",
        "        downsample = None\n",
        "        if stride != 1 or self.inplanes != planes * block.expansion:\n",
        "            downsample = nn.Sequential(\n",
        "                nn.Conv2d(\n",
        "                    self.inplanes,\n",
        "                    planes * block.expansion,\n",
        "                    kernel_size=1,\n",
        "                    stride=stride,\n",
        "                )\n",
        "            )\n",
        "\n",
        "        layers = []\n",
        "        layers.append(block(self.inplanes, planes, stride, downsample))\n",
        "        self.inplanes = planes * block.expansion\n",
        "        for i in range(1, blocks):\n",
        "            layers.append(block(self.inplanes, planes))\n",
        "\n",
        "        return nn.Sequential(*layers)\n",
        "\n",
        "    def _make_fc(self, inplanes, outplanes):\n",
        "        bn = nn.BatchNorm2d(inplanes)\n",
        "        conv = nn.Conv2d(inplanes, outplanes, kernel_size=1)\n",
        "        return nn.Sequential(conv, bn, self.relu)\n",
        "\n",
        "    def forward(self, x):\n",
        "        out = []\n",
        "        # out_vps = []\n",
        "        x = self.conv1(x)\n",
        "        x = self.bn1(x)\n",
        "        x = self.relu(x)\n",
        "\n",
        "        x = self.layer1(x)\n",
        "        x = self.maxpool(x)\n",
        "        x = self.layer2(x)\n",
        "        x = self.layer3(x)\n",
        "\n",
        "        for i in range(self.num_stacks):\n",
        "            y = self.hg[i](x)\n",
        "            y = self.res[i](y)\n",
        "            y = self.fc[i](y)\n",
        "            score = self.score[i](y)\n",
        "            # pre_vpts = F.adaptive_avg_pool2d(x, (1, 1))\n",
        "            # pre_vpts = pre_vpts.reshape(-1, 256)\n",
        "            # vpts = self.vpts[i](x)\n",
        "            out.append(score)\n",
        "            # out_vps.append(vpts)\n",
        "            if i < self.num_stacks - 1:\n",
        "                fc_ = self.fc_[i](y)\n",
        "                score_ = self.score_[i](score)\n",
        "                x = x + fc_ + score_\n",
        "\n",
        "        return out[::-1], y  # , out_vps[::-1]\n"
      ],
      "execution_count": null,
      "outputs": []
    },
    {
      "cell_type": "code",
      "metadata": {
        "id": "A20bzJJN87kj"
      },
      "source": [
        "def hg(**kwargs):\n",
        "    model = HourglassNet(\n",
        "        Bottleneck2D,\n",
        "        head=kwargs.get(\"head\", lambda c_in, c_out: nn.Conv2D(c_in, c_out, 1)),\n",
        "        depth=kwargs[\"depth\"],\n",
        "        num_stacks=kwargs[\"num_stacks\"],\n",
        "        num_blocks=kwargs[\"num_blocks\"],\n",
        "        num_classes=kwargs[\"num_classes\"],\n",
        "    )\n",
        "    return model"
      ],
      "execution_count": null,
      "outputs": []
    },
    {
      "cell_type": "code",
      "metadata": {
        "id": "z6D9rmzeDpBz"
      },
      "source": [
        "class MultitaskHead(nn.Module):\n",
        "    def __init__(self, input_channels, num_class):\n",
        "        super(MultitaskHead, self).__init__()\n",
        "\n",
        "        m = int(input_channels / 4)\n",
        "        heads = []\n",
        "        for output_channels in sum( [[2], [1], [2]], []):\n",
        "            print(output_channels)\n",
        "            heads.append(\n",
        "                nn.Sequential(\n",
        "                    nn.Conv2d(input_channels, m, kernel_size=3, padding=1),\n",
        "                    nn.ReLU(inplace=True),\n",
        "                    nn.Conv2d(m, output_channels, kernel_size=1),\n",
        "                )\n",
        "            )\n",
        "        self.heads = nn.ModuleList(heads)\n",
        "        assert num_class == sum(sum([[2], [1], [2]], []))\n",
        "\n",
        "    def forward(self, x):\n",
        "        return torch.cat([head(x) for head in self.heads], dim=1)"
      ],
      "execution_count": null,
      "outputs": []
    },
    {
      "cell_type": "code",
      "metadata": {
        "id": "QsTEkVK6DrEo",
        "colab": {
          "base_uri": "https://localhost:8080/"
        },
        "outputId": "b1b7157c-83e9-4ebb-a0d1-0972ed1684f3"
      },
      "source": [
        "mth = MultitaskHead(16, 5)\n",
        "print(mth)"
      ],
      "execution_count": null,
      "outputs": [
        {
          "output_type": "stream",
          "text": [
            "2\n",
            "1\n",
            "2\n",
            "MultitaskHead(\n",
            "  (heads): ModuleList(\n",
            "    (0): Sequential(\n",
            "      (0): Conv2d(16, 4, kernel_size=(3, 3), stride=(1, 1), padding=(1, 1))\n",
            "      (1): ReLU(inplace=True)\n",
            "      (2): Conv2d(4, 2, kernel_size=(1, 1), stride=(1, 1))\n",
            "    )\n",
            "    (1): Sequential(\n",
            "      (0): Conv2d(16, 4, kernel_size=(3, 3), stride=(1, 1), padding=(1, 1))\n",
            "      (1): ReLU(inplace=True)\n",
            "      (2): Conv2d(4, 1, kernel_size=(1, 1), stride=(1, 1))\n",
            "    )\n",
            "    (2): Sequential(\n",
            "      (0): Conv2d(16, 4, kernel_size=(3, 3), stride=(1, 1), padding=(1, 1))\n",
            "      (1): ReLU(inplace=True)\n",
            "      (2): Conv2d(4, 2, kernel_size=(1, 1), stride=(1, 1))\n",
            "    )\n",
            "  )\n",
            ")\n"
          ],
          "name": "stdout"
        }
      ]
    },
    {
      "cell_type": "code",
      "metadata": {
        "id": "aWRAJpQ3Dxm4"
      },
      "source": [
        "lambda_ = torch.linspace(0, 1, 32)[:, None]"
      ],
      "execution_count": null,
      "outputs": []
    },
    {
      "cell_type": "code",
      "metadata": {
        "colab": {
          "base_uri": "https://localhost:8080/"
        },
        "id": "wxZS_4axjUw2",
        "outputId": "02b24132-8016-4d24-d0f2-a8ec9549e51e"
      },
      "source": [
        "print(lambda_.shape)"
      ],
      "execution_count": null,
      "outputs": [
        {
          "output_type": "stream",
          "text": [
            "torch.Size([32])\n"
          ],
          "name": "stdout"
        }
      ]
    },
    {
      "cell_type": "code",
      "metadata": {
        "id": "S7UzE0N6jZRp"
      },
      "source": [
        "!git clone https://github.com/menon92/lcnn"
      ],
      "execution_count": null,
      "outputs": []
    },
    {
      "cell_type": "code",
      "metadata": {
        "id": "UkQVYSK1xonm"
      },
      "source": [
        ""
      ],
      "execution_count": null,
      "outputs": []
    }
  ]
}